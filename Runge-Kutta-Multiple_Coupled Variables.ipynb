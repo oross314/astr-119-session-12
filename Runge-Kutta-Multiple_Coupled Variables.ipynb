{
 "cells": [
  {
   "cell_type": "code",
   "execution_count": 1,
   "metadata": {},
   "outputs": [],
   "source": [
    "%matplotlib inline\n",
    "import numpy as np\n",
    "import matplotlib.pyplot as plt"
   ]
  },
  {
   "cell_type": "markdown",
   "metadata": {},
   "source": [
    "## Define our coupled derivatives to integrate"
   ]
  },
  {
   "cell_type": "code",
   "execution_count": 2,
   "metadata": {},
   "outputs": [],
   "source": [
    "def dydx(x,y):\n",
    "    #Set derivatives\n",
    "    #our equation is d^2y/dx^2=-y\n",
    "    #sp dydx=z\n",
    "    #dzdx=-y\n",
    "    #set y=y[0]\n",
    "    #set x=y[1]\n",
    "    #declare an array\n",
    "    y_derivs=np.zeros(2)\n",
    "    \n",
    "    #set dydx=z\n",
    "    y_derivs[0]=y[1]\n",
    "    #set dzdx=-y\n",
    "    y_derivs[1]=-1*y[0]\n",
    "    #here we have to return an array\n",
    "    return y_derivs"
   ]
  },
  {
   "cell_type": "markdown",
   "metadata": {},
   "source": [
    "## Define the 4th order RK method"
   ]
  },
  {
   "cell_type": "code",
   "execution_count": 5,
   "metadata": {},
   "outputs": [],
   "source": [
    "def rk4_mv_core(dydx,xi,yi,nv,h):\n",
    "    #declare k? arrays\n",
    "    k1=np.zeros(nv)\n",
    "    k2=np.zeros(nv)\n",
    "    k3=np.zeros(nv)\n",
    "    k4=np.zeros(nv)\n",
    "    \n",
    "    #define x at 1/2 step\n",
    "    x_ipoh=xi+.5*h\n",
    "    \n",
    "    #define x at 1 step\n",
    "    x_ipo=xi+h\n",
    "    \n",
    "    #declare a temp y array\n",
    "    y_temp=np.zeros(nv)\n",
    "    \n",
    "    #get k1 values \n",
    "    y_derivs=dydx(xi,yi)\n",
    "    k1[:]=h*y_derivs[:]\n",
    "    \n",
    "    #get k2 values\n",
    "    y_temp[:]=yi[i]+.5*k1[:]\n",
    "    y_derivs=dydx(x_ipoh,y_temp)\n",
    "    k2[:]=h*y_derivs[:]\n",
    "    \n",
    "    #get k3 values\n",
    "    y_temp[:]=yi[:]+.5*k1[:]\n",
    "    y_derivs=dydx(x_ipoh,y_temp)\n",
    "    k2[:]=h*y_derivs[:]\n",
    "    \n",
    "    #get k4 values\n",
    "    y_temp[:]=yi[:]+k3[:]\n",
    "    y_derivs=dydx(x_ipo,y_temp)\n",
    "    k4[:]=h*y_derivs[:]\n",
    "    \n",
    "    #advance y by a step h\n",
    "    yipo=yi+(k1+2*k2+2*k3+k4)/6\n",
    "    return yipo"
   ]
  },
  {
   "cell_type": "code",
   "execution_count": 8,
   "metadata": {},
   "outputs": [],
   "source": [
    "def rk4_mv_ad(dydx,x_i,y_i,nv,h,tol):\n",
    "    \n",
    "    #define safety scale\n",
    "    SAFETY=.9\n",
    "    H_NEW_FAC=2.0\n",
    "    \n",
    "    #set a maximum number of iterations\n",
    "    imax=10000\n",
    "    \n",
    "    i=0\n",
    "    #create an error\n",
    "    Delta=np.full(nv,2*tol)\n",
    "    \n",
    "    #remember the step\n",
    "    h_step=h\n",
    "    \n",
    "    #adjust step\n",
    "    while(Delta.max()/tol>1.0):\n",
    "        #estimate our error by taking one step of size h v. two steps of size h/2\n",
    "        y_2=rk4_mv_core(dydx,x_i,y_i,nv,h_step)\n",
    "        y_1=rk4_mv_core(dydx,x_i,y_i,nv,.5*h_step)\n",
    "        y_11=rk4_mv_core(dydx,x_i+.5*h_step,y_1,nv,.5*h_step)\n",
    "        \n",
    "        #compute an error\n",
    "        Delta=np.fabs(y_2-y_1)\n",
    "        \n",
    "        #if the error is too large, take a smaller step\n",
    "        if (Delta.max()>tol):\n",
    "            #our error is too large, take a smaller step\n",
    "            h_step*=SAFETY*(Delta.max()/tol**(-.25))\n",
    "            \n",
    "        #check iteration\n",
    "        if(i>=imax):\n",
    "            raise StopIteration(\"Ending after i=\",i)\n",
    "        \n",
    "        i+=1\n",
    "    #next time, try to take a bigger step\n",
    "    h_new=np.fmin(h_step*Delta.max()/tol**(-.9),h_step*H_NEW_FAC)\n",
    "    \n",
    "    return y_2,h_new,h_step"
   ]
  },
  {
   "cell_type": "code",
   "execution_count": 10,
   "metadata": {},
   "outputs": [],
   "source": [
    "def rk4_mv(dfdx, a,b,y_a,tol):\n",
    "    #define starting step\n",
    "    xi=a\n",
    "    yi=y_a.copy()\n",
    "    \n",
    "    #an initial step size==make very small\n",
    "    h=1.0e-4*(b-a)\n",
    "    imax=10000\n",
    "    i=0\n",
    "    \n",
    "    nv=len(y_a)\n",
    "    #set initial conditions\n",
    "    x=np.full(1,a)\n",
    "    y=np.full((1,nv),y_a)\n",
    "    \n",
    "    flag=1\n",
    "    \n",
    "    while(flag):\n",
    "        yi_new,h_new,h_step=rk4_mv_ad(dydx,xi,yi,nv,h,tol)\n",
    "        \n",
    "        h=h_new\n",
    "        \n",
    "        #prevent an overshoot\n",
    "        h=b-xi\n",
    "        \n",
    "        #recalculate y_i+1\n",
    "        yi_new,h_new,h_step=rk4_mv_ad(dydx,xi,yi,nv,h,tol)\n",
    "        \n",
    "        flag=0\n",
    "        \n",
    "    #update values\n",
    "    xi+= h_step\n",
    "    yi[:]=yi_new[:]\n",
    "    \n",
    "    #add the step to the arrays\n",
    "    "
   ]
  },
  {
   "cell_type": "code",
   "execution_count": null,
   "metadata": {},
   "outputs": [],
   "source": []
  }
 ],
 "metadata": {
  "kernelspec": {
   "display_name": "Python 3",
   "language": "python",
   "name": "python3"
  },
  "language_info": {
   "codemirror_mode": {
    "name": "ipython",
    "version": 3
   },
   "file_extension": ".py",
   "mimetype": "text/x-python",
   "name": "python",
   "nbconvert_exporter": "python",
   "pygments_lexer": "ipython3",
   "version": "3.6.5"
  }
 },
 "nbformat": 4,
 "nbformat_minor": 2
}
